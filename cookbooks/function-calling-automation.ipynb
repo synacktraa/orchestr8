{
 "cells": [
  {
   "cell_type": "markdown",
   "metadata": {},
   "source": [
    "# Function-Calling automation\n",
    "\n",
    "Function calling introduces powerful capabilities to interact with AI models, but manually creating and maintaining function schemas is a complex and error-prone process. Developers often struggle with:\n",
    "\n",
    "- Keeping schemas synchronized with code changes\n",
    "- Ensuring type safety and input validation\n",
    "- Supporting multiple AI platform formats\n",
    "- Reducing repetitive boilerplate code\n",
    "\n",
    "This cookbook demonstrates an automated approach to generating and managing function-calling schemas, streamlining the integration between your code and Language Models."
   ]
  },
  {
   "cell_type": "markdown",
   "metadata": {},
   "source": [
    "## Installation and Setup\n",
    "\n",
    "This cookbook requires the `litellm` library for function-call generation via the Groq provider. \n",
    "\n",
    "If you don't have an API key for Groq, you can get one at [Groq Console](https://console.groq.com/keys).\n"
   ]
  },
  {
   "cell_type": "code",
   "execution_count": null,
   "metadata": {},
   "outputs": [],
   "source": [
    "%pip install orchestr8[adapter] litellm duckduckgo-search\n",
    "\n",
    "import getpass\n",
    "import os\n",
    "\n",
    "\n",
    "def set_env(var: str):\n",
    "    if not os.environ.get(var):\n",
    "        os.environ[var] = getpass.getpass(f\"{var}: \")\n",
    "\n",
    "\n",
    "set_env(\"GROQ_API_KEY\")"
   ]
  },
  {
   "cell_type": "code",
   "execution_count": 2,
   "metadata": {},
   "outputs": [],
   "source": [
    "import json\n",
    "from typing import Any, Dict, List\n",
    "\n",
    "from litellm import completion\n",
    "\n",
    "INSTRUCTION = \"Complete user requests using the given functions.\"\n",
    "\n",
    "\n",
    "def generate_function_call(request: str, functions: List[Dict[str, Any]]):\n",
    "    response = completion(\n",
    "        model=\"groq/llama3-groq-70b-8192-tool-use-preview\",\n",
    "        messages=[{\"role\": \"system\", \"content\": INSTRUCTION}, {\"role\": \"user\", \"content\": request}],\n",
    "        tools=functions,\n",
    "    )\n",
    "    tool_call = response.choices[0].message.tool_calls[0].function\n",
    "    if tool_call is None:\n",
    "        print(response.choices[0].message.content)\n",
    "        raise Exception(\"No function call found in the response.\")\n",
    "    return tool_call.name, json.loads(tool_call.arguments)"
   ]
  },
  {
   "cell_type": "markdown",
   "metadata": {},
   "source": [
    "## Creating adapters from functions\n",
    "\n",
    "Creating adapters is as simple as defining a function and decorating it with `@adapt` decorator."
   ]
  },
  {
   "cell_type": "code",
   "execution_count": 3,
   "metadata": {},
   "outputs": [],
   "source": [
    "from typing import Literal\n",
    "\n",
    "from duckduckgo_search import DDGS\n",
    "\n",
    "import orchestr8 as o8\n",
    "\n",
    "ddgs = DDGS()\n",
    "\n",
    "\n",
    "@o8.adapt\n",
    "def search_text(\n",
    "    text: str,\n",
    "    *,  # Yes it supports positional and keyword arguments\n",
    "    safe_search: bool = True,\n",
    "    backend: Literal[\"api\", \"html\", \"lite\"] = \"api\",\n",
    "    max_results: int = 1,\n",
    "):\n",
    "    \"\"\"\n",
    "    Search for text in the web.\n",
    "    :param text: Text to search for.\n",
    "    :param safe_search: If True, enable safe search.\n",
    "    :param backend: Backend to use for retrieving results.\n",
    "    :param max_results: Max results to return.\n",
    "    \"\"\"\n",
    "    return ddgs.text(keywords=text, safesearch=\"on\" if safe_search else \"off\", backend=backend, max_results=max_results)\n",
    "\n",
    "\n",
    "@o8.adapt\n",
    "def get_translation(text: str, to: Literal[\"en\", \"ja\", \"hi\", \"es\", \"fr\", \"de\", \"zh\"] = \"en\"):\n",
    "    \"\"\"\n",
    "    Translate the given text.\n",
    "    :param text: Text to translate.\n",
    "    :param to: what language to translate.\n",
    "    \"\"\"\n",
    "    return ddgs.translate(keywords=text, to=to)"
   ]
  },
  {
   "cell_type": "markdown",
   "metadata": {},
   "source": [
    "## Generating function-calls\n",
    "\n",
    "There are three available function-calling schema formats: OpenAI, Anthropic, and Gemini.\n",
    "\n",
    "We'll be using OpenAI schema for this example as we're using Llama model."
   ]
  },
  {
   "cell_type": "code",
   "execution_count": 4,
   "metadata": {},
   "outputs": [
    {
     "name": "stdout",
     "output_type": "stream",
     "text": [
      "('search_text', {'text': 'best restaurants in Kolkata', 'max_results': 5, 'safe_search': True})\n"
     ]
    }
   ],
   "source": [
    "function_call = generate_function_call(\n",
    "    \"Search for the best restaurants in Kolkata.\",\n",
    "    functions=[search_text.openai_schema, get_translation.openai_schema],\n",
    ")\n",
    "print(function_call)"
   ]
  },
  {
   "cell_type": "markdown",
   "metadata": {},
   "source": [
    "Now, we can utilize the `validate_input` method to validate the function arguments generated by the LLM."
   ]
  },
  {
   "cell_type": "code",
   "execution_count": 5,
   "metadata": {},
   "outputs": [
    {
     "name": "stdout",
     "output_type": "stream",
     "text": [
      "{'title': 'THE 10 BEST Restaurants in Kolkata (Calcutta) (Updated 2024) - Tripadvisor', 'href': 'https://www.tripadvisor.in/Restaurants-g304558-Kolkata_Calcutta_Kolkata_District_West_Bengal.html', 'body': 'Dining in Kolkata (Calcutta), Kolkata District: See 63,234 Tripadvisor traveller reviews of 5,724 Kolkata (Calcutta) restaurants and search by cuisine, price, location, and more.'}\n",
      "{'title': 'The 31 Best Restaurants in Kolkata (Calcutta), India - Eater', 'href': 'https://www.eater.com/maps/best-restaurants-kolkata-calcutta-india-bengal', 'body': 'The 31 Essential Kolkata Restaurants. Deviled crabs at a midcentury cabaret, phuchka from a decades-old street vendor, and more of the best things to eat in Kolkata'}\n",
      "{'title': 'The 50 best restaurants in Kolkata - Condé Nast Traveller India', 'href': 'https://www.cntraveller.in/magazine-story/kolkatas-50-best-meals/', 'body': \"Explore the diverse cuisines of Kolkata, from Bengali sweet shops to Mughlai, Chinese and Continental restaurants. Discover the history, culture and flavours of the city's top dining spots, from Flurys to Kewpie's Kitchen.\"}\n",
      "{'title': 'The 11 Best Restaurants in Kolkata - TripSavvy', 'href': 'https://www.tripsavvy.com/best-restaurants-in-kolkata-5176449', 'body': \"Discover the diverse cuisines and dining scenes of Kolkata, from Bengali fine dining to modern Indian and heritage continental. Find out the best places to enjoy seafood, kebabs, biryani, and more in the city's iconic areas.\"}\n",
      "{'title': '14 Best Restaurants in Kolkata (2024) - WanderOn', 'href': 'https://wanderon.in/blogs/best-restaurants-in-kolkata', 'body': 'Explore the diverse and vibrant food scene of Kolkata, from traditional Bengali cuisine to continental dishes, street food, and international flavors. Discover the best restaurants in Kolkata, ranging from historic institutions to quirky cafes and local eateries, and enjoy a gastronomic adventure.'}\n"
     ]
    }
   ],
   "source": [
    "search_results = search_text.validate_input(function_call[1])\n",
    "for entry in search_results:\n",
    "    print(entry)"
   ]
  },
  {
   "cell_type": "markdown",
   "metadata": {},
   "source": [
    "Adapters also has as interesting property `.definition` which returns the code definition of the function.\n",
    "\n",
    "It can be useful in cases where you want to pass the function as context to the LLM."
   ]
  },
  {
   "cell_type": "code",
   "execution_count": 6,
   "metadata": {},
   "outputs": [
    {
     "name": "stdout",
     "output_type": "stream",
     "text": [
      "def get_translation(text: str, to: Literal['en', 'ja', 'hi', 'es', 'fr', 'de', 'zh']='en'):\n",
      "    \"\"\"\n",
      "    Translate the given text.\n",
      "    :param text: Text to translate.\n",
      "    :param to: what language to translate.\n",
      "    \"\"\"\n",
      "    return ddgs.translate(keywords=text, to=to)\n"
     ]
    }
   ],
   "source": [
    "print(get_translation.definition)"
   ]
  }
 ],
 "metadata": {
  "kernelspec": {
   "display_name": ".venv",
   "language": "python",
   "name": "python3"
  },
  "language_info": {
   "codemirror_mode": {
    "name": "ipython",
    "version": 3
   },
   "file_extension": ".py",
   "mimetype": "text/x-python",
   "name": "python",
   "nbconvert_exporter": "python",
   "pygments_lexer": "ipython3",
   "version": "3.10.11"
  }
 },
 "nbformat": 4,
 "nbformat_minor": 2
}
