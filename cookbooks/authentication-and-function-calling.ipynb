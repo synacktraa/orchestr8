{
 "cells": [
  {
   "cell_type": "markdown",
   "metadata": {},
   "source": [
    "# Authentication & Function Calling\n",
    "\n",
    "Modern applications often rely on third-party services to extend their capabilities, but securing and managing authentication can be a significant technical challenge. OAuth has become the standard protocol for secure, delegated access, yet implementing it correctly requires handling complex token exchanges, refresh mechanisms, and secure credential management.\n",
    "\n",
    "This cookbook demonstrates how to simplify OAuth authentication within function-calling workflows, providing a streamlined approach to securely connecting and accessing external service APIs."
   ]
  },
  {
   "cell_type": "markdown",
   "metadata": {},
   "source": [
    "## Installation and Setup\n",
    "\n",
    "This cookbook requires the `litellm` library for function-call generation via the Groq provider. \n",
    "\n",
    "If you don't have an API key for Groq, you can get one at [Groq Console](https://console.groq.com/keys).\n",
    "\n",
    "`OAuthFlow` component requires `mkcert` for setting up local redirect server, refer [here](https://github.com/FiloSottile/mkcert?tab=readme-ov-file#installation) for installation instructions"
   ]
  },
  {
   "cell_type": "code",
   "execution_count": null,
   "metadata": {},
   "outputs": [],
   "source": [
    "%pip install orchestr8[adapter] litellm requests\n",
    "\n",
    "import getpass\n",
    "import os\n",
    "\n",
    "\n",
    "def set_env(var: str):\n",
    "    if not os.environ.get(var):\n",
    "        os.environ[var] = getpass.getpass(f\"{var}: \")\n",
    "\n",
    "\n",
    "set_env(\"GROQ_API_KEY\")"
   ]
  },
  {
   "cell_type": "code",
   "execution_count": null,
   "metadata": {},
   "outputs": [],
   "source": [
    "import json\n",
    "from typing import Any, Dict, List\n",
    "\n",
    "from litellm import completion\n",
    "\n",
    "INSTRUCTION = \"Complete user requests using the given functions.\"\n",
    "\n",
    "\n",
    "def generate_function_call(request: str, functions: List[Dict[str, Any]]):\n",
    "    response = completion(\n",
    "        model=\"groq/llama3-groq-70b-8192-tool-use-preview\",\n",
    "        messages=[{\"role\": \"system\", \"content\": INSTRUCTION}, {\"role\": \"user\", \"content\": request}],\n",
    "        tools=functions,\n",
    "    )\n",
    "    tool_call = response.choices[0].message.tool_calls[0].function\n",
    "    if tool_call is None:\n",
    "        print(response.choices[0].message.content)\n",
    "        raise Exception(\"No function call found in the response.\")\n",
    "    return tool_call.name, json.loads(tool_call.arguments)"
   ]
  },
  {
   "cell_type": "markdown",
   "metadata": {},
   "source": [
    "## Creating an OAuth Flow\n",
    "\n",
    "Here, we'll create an OAuth flow for the `discord` service. This flow will allow us to authenticate with Discord and obtain an access token. In later steps, we'll use this access token to access the Discord API through function calls."
   ]
  },
  {
   "cell_type": "code",
   "execution_count": null,
   "metadata": {},
   "outputs": [
    {
     "name": "stdout",
     "output_type": "stream",
     "text": [
      "\u001b[48;2;15;7;7m[DiscordOAuthFlow]\u001b[0m \u001b[1mStarting authorization process\u001b[0m\n",
      "\u001b[48;2;15;7;7m[RedirectServer]\u001b[0m \u001b[1mRedirect server started on \u001b[4mlocalhost:41539\u001b[0m\u001b[1m\u001b[0m\n",
      "\u001b[48;2;15;7;7m[DiscordOAuthFlow]\u001b[0m \u001b[1m\u001b[37mAdd this URL to your application's redirect settings:\u001b[0m\u001b[1m \u001b[4m\u001b[94mhttps://localhost:41539/\u001b[0m\u001b[1m\u001b[4m\u001b[0m\u001b[1m\u001b[0m\n",
      "\u001b[48;2;15;7;7m[DiscordOAuthFlow]\u001b[0m \u001b[1m\u001b[37mClick this URL to authorize:\u001b[0m\u001b[1m \u001b[4m\u001b[94mhttps://discord.com/api/oauth2/authorize?client_id=<client-id>&redirect_uri=https%3A%2F%2Flocalhost%3A41539%2F&response_type=code&scope=identify+email+guilds\u001b[0m\u001b[1m\u001b[4m\u001b[0m\u001b[1m\u001b[0m\n",
      "\u001b[48;2;15;7;7m[RedirectServer]\u001b[0m \u001b[1mIntercepting request (timeout: \u001b[4m30s\u001b[0m\u001b[1m)\u001b[0m\n",
      "\u001b[48;2;15;7;7m[DiscordOAuthFlow]\u001b[0m \u001b[32m\u001b[1mAuthorization code received\u001b[0m\n",
      "\u001b[48;2;15;7;7m[DiscordOAuthFlow]\u001b[0m \u001b[32m\u001b[1mAccess token generated successfully\u001b[0m\n"
     ]
    }
   ],
   "source": [
    "import requests\n",
    "\n",
    "import orchestr8 as o8\n",
    "\n",
    "\n",
    "class DiscordOAuthFlow(o8.OAuthFlow):\n",
    "    \"\"\"Class for handling Discord OAuth2 flow.\"\"\"\n",
    "\n",
    "    @property\n",
    "    def auth_url(self) -> str:\n",
    "        \"\"\"\n",
    "        Formatted Discord authorization URL for getting code.\n",
    "        \"\"\"\n",
    "        return (\n",
    "            f\"https://discord.com/api/oauth2/authorize\"\n",
    "            f\"?client_id={self.client_id}&redirect_uri={self.quoted_redirect_url}\"\n",
    "            f\"&response_type=code&scope={self.user_scopes}\"\n",
    "        )\n",
    "\n",
    "    def _generate_access_token(self, code: str) -> str:\n",
    "        \"\"\"\n",
    "        Generate an access token from the authorization code.\n",
    "\n",
    "        :param code: Authorization code from Discord.\n",
    "        :return: The access token.\n",
    "        \"\"\"\n",
    "        response = requests.post(\n",
    "            \"https://discord.com/api/oauth2/token\",\n",
    "            data={\n",
    "                \"grant_type\": \"authorization_code\",\n",
    "                \"code\": code,\n",
    "                \"redirect_uri\": self.redirect_url,\n",
    "            },\n",
    "            timeout=30,\n",
    "            headers={\"Content-Type\": \"application/x-www-form-urlencoded\"},\n",
    "            auth=(self.client_id, self.client_secret),\n",
    "        )\n",
    "\n",
    "        if response.status_code != 200:\n",
    "            raise Exception(f\"Failed to obtain access token: {response.json()}\")\n",
    "\n",
    "        return response.json()[\"access_token\"]\n",
    "\n",
    "\n",
    "discord_flow = DiscordOAuthFlow(\n",
    "    client_id=\"<client-id>\",\n",
    "    client_secret=\"<client-secret>\",  # noqa: S106\n",
    "    user_scopes=\"identify email guilds\",\n",
    ")\n",
    "access_token = discord_flow.authorize(timeout=30)"
   ]
  },
  {
   "cell_type": "markdown",
   "metadata": {},
   "source": [
    "> To generate client id and secret, refer [discord oauth2 docs](https://discord.com/developers/docs/topics/oauth2) or directly go to [discord developer portal](https://discord.com/developers/applications)"
   ]
  },
  {
   "cell_type": "markdown",
   "metadata": {},
   "source": [
    "## Creating adapters from functions\n",
    "\n",
    "Creating adapters is as simple as defining a function and decorating it with `@adapt` decorator."
   ]
  },
  {
   "cell_type": "code",
   "execution_count": null,
   "metadata": {},
   "outputs": [],
   "source": [
    "import orchestr8 as o8\n",
    "\n",
    "\n",
    "@o8.adapt\n",
    "def fetch_my_discord_info():\n",
    "    \"\"\"Fetch my information from the Discord API.\"\"\"\n",
    "    headers = {\"Authorization\": f\"Bearer {access_token}\", \"Content-Type\": \"application/json\"}\n",
    "\n",
    "    response = requests.get(\"https://discord.com/api/v9/users/@me\", headers=headers, timeout=15)\n",
    "\n",
    "    if response.status_code == 200:\n",
    "        return response.json()\n",
    "    else:\n",
    "        raise Exception(f\"Failed to fetch user info: {response.status_code} - {response.text}\")\n",
    "\n",
    "\n",
    "@o8.adapt\n",
    "def fetch_my_discord_guilds():\n",
    "    \"\"\"Fetch the guilds that I am a member of on Discord.\"\"\"\n",
    "    headers = {\"Authorization\": f\"Bearer {access_token}\", \"Content-Type\": \"application/json\"}\n",
    "\n",
    "    response = requests.get(\"https://discord.com/api/v9/users/@me/guilds\", headers=headers, timeout=15)\n",
    "\n",
    "    if response.status_code == 200:\n",
    "        return response.json()\n",
    "    else:\n",
    "        raise Exception(f\"Failed to fetch user guilds: {response.status_code} - {response.text}\")"
   ]
  },
  {
   "cell_type": "markdown",
   "metadata": {},
   "source": [
    "## Generating function-call\n",
    "\n",
    "There are three available function-calling schema formats: OpenAI, Anthropic, and Gemini.\n",
    "\n",
    "We'll be using OpenAI schema for this example as we're using Llama model."
   ]
  },
  {
   "cell_type": "code",
   "execution_count": 5,
   "metadata": {},
   "outputs": [
    {
     "name": "stdout",
     "output_type": "stream",
     "text": [
      "('fetch_my_discord_info', {})\n"
     ]
    }
   ],
   "source": [
    "function_call = generate_function_call(\n",
    "    \"Fetch my discord info\",\n",
    "    functions=[fetch_my_discord_info.openai_schema, fetch_my_discord_guilds.openai_schema],\n",
    ")\n",
    "print(function_call)"
   ]
  },
  {
   "cell_type": "markdown",
   "metadata": {},
   "source": [
    "Now, we can utilize the `validate_input` method to send the message to the specified discord channel."
   ]
  },
  {
   "cell_type": "code",
   "execution_count": 6,
   "metadata": {},
   "outputs": [
    {
     "data": {
      "text/plain": [
       "{'id': '1260905671142936631',\n",
       " 'username': 'synacktra._81487',\n",
       " 'avatar': None,\n",
       " 'discriminator': '0',\n",
       " 'public_flags': 0,\n",
       " 'flags': 0,\n",
       " 'banner': None,\n",
       " 'accent_color': None,\n",
       " 'global_name': 'synacktra',\n",
       " 'avatar_decoration_data': None,\n",
       " 'banner_color': None,\n",
       " 'clan': None,\n",
       " 'primary_guild': None,\n",
       " 'mfa_enabled': True,\n",
       " 'locale': 'en-US',\n",
       " 'premium_type': 0,\n",
       " 'email': 'synacktra.work@gmail.com',\n",
       " 'verified': True}"
      ]
     },
     "execution_count": 6,
     "metadata": {},
     "output_type": "execute_result"
    }
   ],
   "source": [
    "fetch_my_discord_info.validate_input(function_call[1])"
   ]
  }
 ],
 "metadata": {
  "kernelspec": {
   "display_name": ".venv",
   "language": "python",
   "name": "python3"
  },
  "language_info": {
   "codemirror_mode": {
    "name": "ipython",
    "version": 3
   },
   "file_extension": ".py",
   "mimetype": "text/x-python",
   "name": "python",
   "nbconvert_exporter": "python",
   "pygments_lexer": "ipython3",
   "version": "3.10.11"
  }
 },
 "nbformat": 4,
 "nbformat_minor": 2
}
