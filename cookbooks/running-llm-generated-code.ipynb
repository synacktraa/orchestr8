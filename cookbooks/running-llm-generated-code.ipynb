{
 "cells": [
  {
   "cell_type": "markdown",
   "metadata": {},
   "source": [
    "# Running LLM-Generated Code\n",
    "\n",
    "Let's face it: Large Language Models (LLMs) are brilliant at generating code, but they're not infallible. They can hallucinate functions, introduce security risks, and occasionally produce code that looks convincing but is fundamentally broken.\n",
    "\n",
    "This cookbook is your safety net. We'll explore how to execute LLM-generated code in a controlled, isolated environment—transforming your skepticism into a structured approach for safe code exploration.\n",
    "\n",
    "Think of it like handling a fascinating but unpredictable exotic pet: you want to marvel at its capabilities while ensuring it can't accidentally wreck your entire digital ecosystem."
   ]
  },
  {
   "cell_type": "markdown",
   "metadata": {},
   "source": [
    "## Installation and Setup\n",
    "\n",
    "> Make sure you have `docker` installed on your system. Refer to the [docker installation guide](https://docs.docker.com/engine/install/) for more details.\n",
    "\n",
    "This cookbook requires the `litellm` library for code generation via the Groq Language Model (LLM). \n",
    "\n",
    "If you don't have an API key for Groq, you can get one at [Groq Console](https://console.groq.com/keys)."
   ]
  },
  {
   "cell_type": "code",
   "execution_count": null,
   "metadata": {},
   "outputs": [],
   "source": [
    "%pip install orchestr8[execution-runtime] litellm\n",
    "\n",
    "import getpass\n",
    "import os\n",
    "\n",
    "\n",
    "def set_env(var: str):\n",
    "    if not os.environ.get(var):\n",
    "        os.environ[var] = getpass.getpass(f\"{var}: \")\n",
    "\n",
    "\n",
    "set_env(\"GROQ_API_KEY\")"
   ]
  },
  {
   "cell_type": "code",
   "execution_count": null,
   "metadata": {},
   "outputs": [],
   "source": [
    "import re\n",
    "from io import BytesIO\n",
    "\n",
    "from litellm import completion\n",
    "\n",
    "# Yoinked from https://github.com/ShishirPatil/gorilla/blob/main/goex/exec_engine/pipeline.py#L14\n",
    "INSTRUCTION = \"\"\"\\\n",
    "You are an assistant that outputs executable Python code that perform what the user requests.\n",
    "It is important that you only return one and only one code block with all the necessary imports inside ```python and nothing else.\n",
    "The code block should print the output(s) when appropriate.\n",
    "\n",
    "If the action can't be successfully completed, throw an exception.\n",
    "\"\"\"\n",
    "\n",
    "\n",
    "def generate_code(request: str) -> BytesIO | None:\n",
    "    response = completion(\n",
    "        model=\"groq/llama-3.1-70b-versatile\",\n",
    "        messages=[{\"role\": \"system\", \"content\": INSTRUCTION}, {\"role\": \"user\", \"content\": request}],\n",
    "    )\n",
    "    content: str = response.choices[0].message.content\n",
    "    match = re.search(r\"```python\\n(.*?)```\", content, re.DOTALL)  # search for the code block\n",
    "    if match:\n",
    "        # extract the code block\n",
    "        code = match.group(1)\n",
    "        print(code)\n",
    "        return BytesIO(code.encode())"
   ]
  },
  {
   "cell_type": "markdown",
   "metadata": {},
   "source": [
    "## Creating an isolated runtime\n",
    "\n",
    "Execution runtime uses `uv` to run python scripts and projects inside virtual environments."
   ]
  },
  {
   "cell_type": "code",
   "execution_count": null,
   "metadata": {},
   "outputs": [
    {
     "name": "stdout",
     "output_type": "stream",
     "text": [
      "\u001b[48;2;15;7;7m[IsolatedExecutionRuntime]\u001b[0m \u001b[1mSetting up the instance\u001b[0m\n",
      "\u001b[48;2;15;7;7m[SandboxClient]\u001b[0m \u001b[1mBuilding image 'orchestr8-runtime:py-3.10-alpine3.20' from dockerfile\u001b[0m\n",
      "\u001b[48;2;15;7;7m[SandboxClient]\u001b[0m \u001b[1mStep 1/3 : FROM python:3.10-alpine3.20\u001b[0m\n",
      "\u001b[48;2;15;7;7m[SandboxClient]\u001b[0m \u001b[1m\u001b[0m\n",
      "\u001b[48;2;15;7;7m[SandboxClient]\u001b[0m \u001b[1m---> 039508c234f8\u001b[0m\n",
      "\u001b[48;2;15;7;7m[SandboxClient]\u001b[0m \u001b[1mStep 2/3 : COPY --from=ghcr.io/astral-sh/uv:latest /uv /bin/uv\u001b[0m\n",
      "\u001b[48;2;15;7;7m[SandboxClient]\u001b[0m \u001b[1m\u001b[0m\n",
      "\u001b[48;2;15;7;7m[SandboxClient]\u001b[0m \u001b[1m---> 1cc5c59fffc4\u001b[0m\n",
      "\u001b[48;2;15;7;7m[SandboxClient]\u001b[0m \u001b[1mStep 3/3 : CMD [\"tail\", \"-f\", \"/dev/null\"]\u001b[0m\n",
      "\u001b[48;2;15;7;7m[SandboxClient]\u001b[0m \u001b[1m\u001b[0m\n",
      "\u001b[48;2;15;7;7m[SandboxClient]\u001b[0m \u001b[1m---> Running in 48e67352a232\u001b[0m\n",
      "\u001b[48;2;15;7;7m[SandboxClient]\u001b[0m \u001b[1m---> Removed intermediate container 48e67352a232\u001b[0m\n",
      "\u001b[48;2;15;7;7m[SandboxClient]\u001b[0m \u001b[1m---> d92b0d627dbe\u001b[0m\n",
      "\u001b[48;2;15;7;7m[SandboxClient]\u001b[0m \u001b[1mSuccessfully built d92b0d627dbe\u001b[0m\n",
      "\u001b[48;2;15;7;7m[SandboxClient]\u001b[0m \u001b[1mSuccessfully tagged orchestr8-runtime:py-3.10-alpine3.20\u001b[0m\n",
      "\u001b[48;2;15;7;7m[SandboxClient]\u001b[0m \u001b[1mStarting up container from image 'orchestr8-runtime:py-3.10-alpine3.20'\u001b[0m\n"
     ]
    }
   ],
   "source": [
    "import orchestr8 as o8\n",
    "\n",
    "runtime = o8.create_execution_runtime(isolate=True)\n",
    "# The first time you run this, it will take a minute or two to setup the container."
   ]
  },
  {
   "cell_type": "markdown",
   "metadata": {},
   "source": [
    "## Generating and running the code\n",
    "\n",
    "We're going to ask a query where the LLM includes a third party library in the generated code to show why running the code using orchestr8's execution runtime is beneficial."
   ]
  },
  {
   "cell_type": "code",
   "execution_count": 4,
   "metadata": {},
   "outputs": [
    {
     "name": "stdout",
     "output_type": "stream",
     "text": [
      "import requests\n",
      "import json\n",
      "\n",
      "def fetch_github_user_info(username):\n",
      "    try:\n",
      "        url = f\"https://api.github.com/users/{username}\"\n",
      "        response = requests.get(url)\n",
      "        \n",
      "        if response.status_code == 200:\n",
      "            user_info = response.json()\n",
      "            print(json.dumps(user_info, indent=4))\n",
      "        else:\n",
      "            raise Exception(f\"Failed to fetch user information. Status code: {response.status_code}\")\n",
      "    except requests.exceptions.RequestException as e:\n",
      "        raise Exception(f\"An error occurred: {e}\")\n",
      "\n",
      "fetch_github_user_info(\"synacktraa\")\n",
      "\n"
     ]
    }
   ],
   "source": [
    "code = generate_code(\"\"\"\\\n",
    "Write a python function that uses requests library to fetch github user information.\n",
    "Include an example of fetching the user \"synacktraa\".\n",
    "\"\"\")"
   ]
  },
  {
   "cell_type": "markdown",
   "metadata": {},
   "source": [
    "To run this code inside the runtime, we can the `run_script` method.\n",
    "\n",
    "The `run_script` creates an on-demand environment for the script and runs it inside it. It also installs the third party dependencies (if any) specified in the script.\n",
    "\n",
    "To know more about auto-generation of requirements, refer the `generate_requirements` function in the `orchestr8.execution_runtime.package_utils` module."
   ]
  },
  {
   "cell_type": "code",
   "execution_count": 5,
   "metadata": {},
   "outputs": [
    {
     "name": "stdout",
     "output_type": "stream",
     "text": [
      "\u001b[48;2;15;7;7m[SandboxClient]\u001b[0m \u001b[1mCopying 'C:\\\\Users\\\\synac\\\\AppData\\\\Local\\\\Temp\\\\tmpwz_hvchz.py' to '/tmp' inside container(sid='de0a74e929ce')\u001b[0m\n",
      "\u001b[48;2;15;7;7m[IsolatedExecutionRuntime]\u001b[0m \u001b[1mRunning script 'tmpwz_hvchz.py'\u001b[0m\n",
      "\u001b[48;2;15;7;7m[IsolatedShell]\u001b[0m \u001b[1m⚙️  || \u001b[38;2;215;234;194muv run --no-project --quiet --with requests==2.32.3 /tmp/tmpwz_hvchz.py\u001b[0m\u001b[1m\u001b[0m\n",
      "{\n",
      "    \"login\": \"synacktraa\",\n",
      "    \"id\": 91981716,\n",
      "    \"node_id\": \"U_kgDOBXuHlA\",\n",
      "    \"avatar_url\": \"https://avatars.githubusercontent.com/u/91981716?v=4\",\n",
      "    \"gravatar_id\": \"\",\n",
      "    \"url\": \"https://api.github.com/users/synacktraa\",\n",
      "    \"html_url\": \"https://github.com/synacktraa\",\n",
      "    \"followers_url\": \"https://api.github.com/users/synacktraa/followers\",\n",
      "    \"following_url\": \"https://api.github.com/users/synacktraa/following{/other_user}\",\n",
      "    \"gists_url\": \"https://api.github.com/users/synacktraa/gists{/gist_id}\",\n",
      "    \"starred_url\": \"https://api.github.com/users/synacktraa/starred{/owner}{/repo}\",\n",
      "    \"subscriptions_url\": \"https://api.github.com/users/synacktraa/subscriptions\",\n",
      "    \"organizations_url\": \"https://api.github.com/users/synacktraa/orgs\",\n",
      "    \"repos_url\": \"https://api.github.com/users/synacktraa/repos\",\n",
      "    \"events_url\": \"https://api.github.com/users/synacktraa/events{/privacy}\",\n",
      "    \"received_events_url\": \"https://api.github.com/users/synacktraa/received_events\",\n",
      "    \"type\": \"User\",\n",
      "    \"user_view_type\": \"public\",\n",
      "    \"site_admin\": false,\n",
      "    \"name\": \"Harsh Verma\",\n",
      "    \"company\": null,\n",
      "    \"blog\": \"\",\n",
      "    \"location\": \"India\",\n",
      "    \"email\": null,\n",
      "    \"hireable\": null,\n",
      "    \"bio\": \"Hidden in the chaos is the element.\",\n",
      "    \"twitter_username\": null,\n",
      "    \"public_repos\": 45,\n",
      "    \"public_gists\": 6,\n",
      "    \"followers\": 48,\n",
      "    \"following\": 29,\n",
      "    \"created_at\": \"2021-10-05T17:57:09Z\",\n",
      "    \"updated_at\": \"2024-12-01T05:29:46Z\"\n",
      "}\n",
      "\n"
     ]
    }
   ],
   "source": [
    "output = runtime.run_script(code, requirements=True)\n",
    "print(output)"
   ]
  },
  {
   "cell_type": "markdown",
   "metadata": {},
   "source": [
    "As you can see, you only require a runtime instance and `.run_script` method to run the code.\n",
    "\n",
    "If you wish to persist the code as a uv project, you can use the `create_project` method which can save you a lot of time as the third party dependencies are installed only once. Then you can utilise the `.run_project` method to run the project whenever you need."
   ]
  }
 ],
 "metadata": {
  "kernelspec": {
   "display_name": "Python 3",
   "language": "python",
   "name": "python3"
  },
  "language_info": {
   "codemirror_mode": {
    "name": "ipython",
    "version": 3
   },
   "file_extension": ".py",
   "mimetype": "text/x-python",
   "name": "python",
   "nbconvert_exporter": "python",
   "pygments_lexer": "ipython3",
   "version": "3.10.11"
  }
 },
 "nbformat": 4,
 "nbformat_minor": 2
}
