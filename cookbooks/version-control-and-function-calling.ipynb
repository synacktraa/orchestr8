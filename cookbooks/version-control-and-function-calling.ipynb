{
 "cells": [
  {
   "cell_type": "markdown",
   "metadata": {},
   "source": [
    "# Version Control & Function Calling\n",
    "\n",
    "Integrating Large Language Models (LLMs) with file system access introduces significant risks. AI models, while powerful, can unpredictably interact with files due to:\n",
    "\n",
    "- Misinterpreting context\n",
    "- Lacking understanding of file system consequences\n",
    "- Potential hallucinations leading to destructive actions\n",
    "\n",
    "This cookbook presents a systematic approach to mitigating these risks by implementing version tracking and change management mechanisms, ensuring safe and controlled file system interactions with LLMs."
   ]
  },
  {
   "cell_type": "markdown",
   "metadata": {},
   "source": [
    "## Installation and Setup\n",
    "\n",
    "This cookbook requires the `litellm` library for function-call generation via the Groq provider. \n",
    "\n",
    "If you don't have an API key for Groq, you can get one at [Groq Console](https://console.groq.com/keys).\n",
    "\n",
    "`DirectoryTracker` component requires `git` for version control, you can download it from [here](https://git-scm.com/downloads)"
   ]
  },
  {
   "cell_type": "code",
   "execution_count": null,
   "metadata": {},
   "outputs": [],
   "source": [
    "%pip install orchestr8[adapter] litellm\n",
    "\n",
    "import getpass\n",
    "import os\n",
    "\n",
    "\n",
    "def set_env(var: str):\n",
    "    if not os.environ.get(var):\n",
    "        os.environ[var] = getpass.getpass(f\"{var}: \")\n",
    "\n",
    "\n",
    "set_env(\"GROQ_API_KEY\")"
   ]
  },
  {
   "cell_type": "code",
   "execution_count": 2,
   "metadata": {},
   "outputs": [],
   "source": [
    "import json\n",
    "from typing import Any, Dict, List\n",
    "\n",
    "from litellm import completion\n",
    "\n",
    "INSTRUCTION = \"Complete user requests using the given functions.\"\n",
    "\n",
    "\n",
    "def generate_function_call(request: str, functions: List[Dict[str, Any]]):\n",
    "    response = completion(\n",
    "        model=\"groq/llama3-groq-70b-8192-tool-use-preview\",\n",
    "        messages=[{\"role\": \"system\", \"content\": INSTRUCTION}, {\"role\": \"user\", \"content\": request}],\n",
    "        tools=functions,\n",
    "    )\n",
    "    tool_call = response.choices[0].message.tool_calls[0].function\n",
    "    if tool_call is None:\n",
    "        print(response.choices[0].message.content)\n",
    "        raise Exception(\"No function call found in the response.\")\n",
    "    return tool_call.name, json.loads(tool_call.arguments)"
   ]
  },
  {
   "cell_type": "markdown",
   "metadata": {},
   "source": [
    "## Creating a tracker instance\n",
    "\n",
    "`DirectoryTracker` wraps Git commands to provide simple version control capabilities, including tracking changes, committing modifications, and undoing uncommitted changes. Supports large files through Git LFS when directory size exceeds a configurable limit."
   ]
  },
  {
   "cell_type": "code",
   "execution_count": null,
   "metadata": {},
   "outputs": [
    {
     "name": "stdout",
     "output_type": "stream",
     "text": [
      "\u001b[48;2;15;7;7m[DirectoryTracker]\u001b[0m \u001b[1mInitializing git repository\u001b[0m\n",
      "\u001b[48;2;15;7;7m[Shell]\u001b[0m \u001b[1m⚙️  || \u001b[38;2;215;234;194mgit init\u001b[0m\u001b[1m\u001b[0m\n",
      "\u001b[48;2;15;7;7m[DirectoryTracker]\u001b[0m \u001b[1mStaging all changes\u001b[0m\n",
      "\u001b[48;2;15;7;7m[Shell]\u001b[0m \u001b[1m⚙️  || \u001b[38;2;215;234;194mgit add .\u001b[0m\u001b[1m\u001b[0m\n",
      "\u001b[48;2;15;7;7m[DirectoryTracker]\u001b[0m \u001b[1mCreating an empty commit\u001b[0m\n",
      "\u001b[48;2;15;7;7m[Shell]\u001b[0m \u001b[1m⚙️  || \u001b[38;2;215;234;194mgit commit -m \"[Thu, Dec 05, 2024 12:20 PM] tracker init\" --allow-empty --no-verify\u001b[0m\u001b[1m\u001b[0m\n",
      "Listing C:\\Users\\synac\\AppData\\Local\\Temp\\orchestr8-tracking\n",
      "\u001b[48;2;15;7;7m[Shell]\u001b[0m \u001b[1m⚙️  || \u001b[38;2;215;234;194mls\u001b[0m\u001b[1m\u001b[0m\n",
      "None\n"
     ]
    }
   ],
   "source": [
    "from pathlib import Path\n",
    "from tempfile import tempdir\n",
    "\n",
    "import orchestr8 as o8\n",
    "\n",
    "directory = Path(tempdir) / \"orchestr8-tracking\"  # We'll be working inside this directory\n",
    "directory.mkdir(exist_ok=True)\n",
    "\n",
    "tracker = o8.DirectoryTracker(path=directory)\n",
    "\n",
    "print(f\"Listing {directory!s}\")\n",
    "print(tracker.shell.run(\"ls\"))  # Returns None, because the directory is empty"
   ]
  },
  {
   "cell_type": "markdown",
   "metadata": {},
   "source": [
    "## Creating adapters from functions\n",
    "\n",
    "Creating adapters is as simple as defining a function and decorating it with `@adapt` decorator."
   ]
  },
  {
   "cell_type": "code",
   "execution_count": 5,
   "metadata": {},
   "outputs": [],
   "source": [
    "from pathlib import Path\n",
    "\n",
    "import orchestr8 as o8\n",
    "\n",
    "\n",
    "@o8.adapt\n",
    "def read_file(path: Path) -> str:\n",
    "    \"\"\"\n",
    "    Read the contents of a file.\n",
    "\n",
    "    :param path: Path to the file\n",
    "    :return: File contents\n",
    "    \"\"\"\n",
    "    if not path.is_file():\n",
    "        raise FileNotFoundError(f\"File {path} not found.\")\n",
    "    return path.read_text()\n",
    "\n",
    "\n",
    "@o8.adapt\n",
    "def write_file(path: Path, content: str, overwrite: bool = False) -> None:\n",
    "    \"\"\"\n",
    "    Write content to a file.\n",
    "\n",
    "    :param path: Path to the file\n",
    "    :param content: Content to write\n",
    "    :param overwrite: Whether to overwrite the file if it exists\n",
    "    \"\"\"\n",
    "    if path.is_file() and not overwrite:\n",
    "        raise FileExistsError(f\"File {path} already exists, set overwrite=True to overwrite it.\")\n",
    "    if not path.is_file():\n",
    "        path.touch()\n",
    "    path.write_text(content)\n",
    "\n",
    "\n",
    "@o8.adapt\n",
    "def delete_file(path: Path) -> None:\n",
    "    \"\"\"\n",
    "    Delete a file.\n",
    "\n",
    "    :param path: Path to the file\n",
    "    \"\"\"\n",
    "    if not path.is_file():\n",
    "        raise FileNotFoundError(f\"File {path} not found.\")\n",
    "    path.unlink()"
   ]
  },
  {
   "cell_type": "markdown",
   "metadata": {},
   "source": [
    "## Generating function-calls and tracking changes\n",
    "\n",
    "Get ready for a version control adventure! We'll demonstrate how to safely interact with files using an AI assistant."
   ]
  },
  {
   "cell_type": "code",
   "execution_count": 6,
   "metadata": {},
   "outputs": [
    {
     "name": "stdout",
     "output_type": "stream",
     "text": [
      "('write_file', {'path': 'C:\\\\Users\\\\synac\\\\AppData\\\\Local\\\\Temp\\\\orchestr8-tracking\\\\new.txt', 'content': 'Hello LLM'})\n"
     ]
    }
   ],
   "source": [
    "function_call = generate_function_call(\n",
    "    f\"Write 'Hello LLM' to {str(directory / 'new.txt')!r} file\", functions=[write_file.openai_schema]\n",
    ")\n",
    "print(function_call)"
   ]
  },
  {
   "cell_type": "code",
   "execution_count": null,
   "metadata": {},
   "outputs": [],
   "source": [
    "# Let's validate and write our file into the directory.\n",
    "write_file.validate_input(function_call[1])"
   ]
  },
  {
   "cell_type": "code",
   "execution_count": 8,
   "metadata": {},
   "outputs": [
    {
     "name": "stdout",
     "output_type": "stream",
     "text": [
      "\u001b[48;2;15;7;7m[DirectoryTracker]\u001b[0m \u001b[1mChecking for uncommitted changes\u001b[0m\n",
      "\u001b[48;2;15;7;7m[Shell]\u001b[0m \u001b[1m⚙️  || \u001b[38;2;215;234;194mgit status --porcelain\u001b[0m\u001b[1m\u001b[0m\n"
     ]
    },
    {
     "data": {
      "text/plain": [
       "True"
      ]
     },
     "execution_count": 8,
     "metadata": {},
     "output_type": "execute_result"
    }
   ],
   "source": [
    "# Curious if our actions left any traces? Let's inspect the directory's status!\n",
    "tracker.has_changes"
   ]
  },
  {
   "cell_type": "code",
   "execution_count": 9,
   "metadata": {},
   "outputs": [
    {
     "name": "stdout",
     "output_type": "stream",
     "text": [
      "\u001b[48;2;15;7;7m[Shell]\u001b[0m \u001b[1m⚙️  || \u001b[38;2;215;234;194mls\u001b[0m\u001b[1m\u001b[0m\n",
      "Directory: C:\\Users\\synac\\AppData\\Local\\Temp\\orchestr8-tracking\n",
      "\n",
      "\n",
      "Mode                 LastWriteTime         Length Name                                                                 \n",
      "----                 -------------         ------ ----                                                                 \n",
      "-a----        05-12-2024     12:20              9 new.txt\n"
     ]
    }
   ],
   "source": [
    "# Time to peek inside our directory and see what's been created!\n",
    "print(tracker.shell.run(\"ls\"))"
   ]
  },
  {
   "cell_type": "code",
   "execution_count": 10,
   "metadata": {},
   "outputs": [
    {
     "name": "stdout",
     "output_type": "stream",
     "text": [
      "\u001b[48;2;15;7;7m[DirectoryTracker]\u001b[0m \u001b[1mRemoving untracked files and directories\u001b[0m\n",
      "\u001b[48;2;15;7;7m[Shell]\u001b[0m \u001b[1m⚙️  || \u001b[38;2;215;234;194mgit clean -fd\u001b[0m\u001b[1m\u001b[0m\n",
      "\u001b[48;2;15;7;7m[DirectoryTracker]\u001b[0m \u001b[1mResetting all tracked files to their last committed state\u001b[0m\n",
      "\u001b[48;2;15;7;7m[Shell]\u001b[0m \u001b[1m⚙️  || \u001b[38;2;215;234;194mgit reset --hard HEAD\u001b[0m\u001b[1m\u001b[0m\n"
     ]
    }
   ],
   "source": [
    "# Made a mistake? No worries! We'll show you how to roll back changes instantly.\n",
    "tracker.undo()"
   ]
  },
  {
   "cell_type": "code",
   "execution_count": 11,
   "metadata": {},
   "outputs": [
    {
     "name": "stdout",
     "output_type": "stream",
     "text": [
      "\u001b[48;2;15;7;7m[Shell]\u001b[0m \u001b[1m⚙️  || \u001b[38;2;215;234;194mls\u001b[0m\u001b[1m\u001b[0m\n",
      "None\n"
     ]
    }
   ],
   "source": [
    "# Let's double-check that our undo worked perfectly.\n",
    "print(tracker.shell.run(\"ls\"))"
   ]
  },
  {
   "cell_type": "code",
   "execution_count": 14,
   "metadata": {},
   "outputs": [
    {
     "name": "stdout",
     "output_type": "stream",
     "text": [
      "('write_file', {'path': 'C:\\\\Users\\\\synac\\\\AppData\\\\Local\\\\Temp\\\\orchestr8-tracking\\\\sort.py', 'content': 'def bubble_sort(arr):\\n    n = len(arr)\\n\\n    for i in range(n):\\n        for j in range(0, n-i-1):\\n            if arr[j] > arr[j+1] : \\n                arr[j], arr[j+1] = arr[j+1], arr[j]\\n\\narr = [64, 34, 25, 12, 22, 11, 90]\\nbubble_sort(arr)\\n\\nprint (\"Sorted array is:\", arr)'})\n"
     ]
    }
   ],
   "source": [
    "# Let's give it another shot and see the magic happen!\n",
    "\n",
    "function_call = generate_function_call(\n",
    "    f\"Write bubble sort algorithm to {str(directory / 'sort.py')!r} file\", functions=[write_file.openai_schema]\n",
    ")\n",
    "print(function_call)\n",
    "write_file.validate_input(function_call[1])"
   ]
  },
  {
   "cell_type": "code",
   "execution_count": 15,
   "metadata": {},
   "outputs": [
    {
     "name": "stdout",
     "output_type": "stream",
     "text": [
      "\u001b[48;2;15;7;7m[Shell]\u001b[0m \u001b[1m⚙️  || \u001b[38;2;215;234;194mcat sort.py\u001b[0m\u001b[1m\u001b[0m\n",
      "def bubble_sort(arr):\n",
      "    n = len(arr)\n",
      "\n",
      "    for i in range(n):\n",
      "        for j in range(0, n-i-1):\n",
      "            if arr[j] > arr[j+1] : \n",
      "                arr[j], arr[j+1] = arr[j+1], arr[j]\n",
      "\n",
      "arr = [64, 34, 25, 12, 22, 11, 90]\n",
      "bubble_sort(arr)\n",
      "\n",
      "print (\"Sorted array is:\", arr)\n"
     ]
    }
   ],
   "source": [
    "# Peek inside the newly created file and marvel at the AI-generated code!\n",
    "print(tracker.shell.run(\"cat\", \"sort.py\"))"
   ]
  },
  {
   "cell_type": "code",
   "execution_count": null,
   "metadata": {},
   "outputs": [
    {
     "name": "stdout",
     "output_type": "stream",
     "text": [
      "\u001b[48;2;15;7;7m[DirectoryTracker]\u001b[0m \u001b[1mStaging all changes\u001b[0m\n",
      "\u001b[48;2;15;7;7m[Shell]\u001b[0m \u001b[1m⚙️  || \u001b[38;2;215;234;194mgit add .\u001b[0m\u001b[1m\u001b[0m\n",
      "\u001b[48;2;15;7;7m[DirectoryTracker]\u001b[0m \u001b[1mPersisting uncommitted changes\u001b[0m\n",
      "\u001b[48;2;15;7;7m[Shell]\u001b[0m \u001b[1m⚙️  || \u001b[38;2;215;234;194mgit commit -m \"[Thu, Dec 05, 2024 12:23 PM] Added sort.py\"\u001b[0m\u001b[1m\u001b[0m\n"
     ]
    }
   ],
   "source": [
    "# Time to make our changes permanent with a commit!\n",
    "tracker.commit(\"Added sort.py\")"
   ]
  },
  {
   "cell_type": "code",
   "execution_count": 17,
   "metadata": {},
   "outputs": [
    {
     "name": "stdout",
     "output_type": "stream",
     "text": [
      "\u001b[48;2;15;7;7m[DirectoryTracker]\u001b[0m \u001b[1mChecking for uncommitted changes\u001b[0m\n",
      "\u001b[48;2;15;7;7m[Shell]\u001b[0m \u001b[1m⚙️  || \u001b[38;2;215;234;194mgit status --porcelain\u001b[0m\u001b[1m\u001b[0m\n"
     ]
    },
    {
     "data": {
      "text/plain": [
       "False"
      ]
     },
     "execution_count": 17,
     "metadata": {},
     "output_type": "execute_result"
    }
   ],
   "source": [
    "# Did our commit go through? Let's check the status!\n",
    "tracker.has_changes"
   ]
  },
  {
   "cell_type": "code",
   "execution_count": 19,
   "metadata": {},
   "outputs": [
    {
     "name": "stdout",
     "output_type": "stream",
     "text": [
      "('delete_file', {'path': 'C:\\\\Users\\\\synac\\\\AppData\\\\Local\\\\Temp\\\\orchestr8-tracking\\\\sort.py'})\n"
     ]
    }
   ],
   "source": [
    "# Watch what happens when we ask the LLM to delete our carefully crafted file!\n",
    "function_call = generate_function_call(\n",
    "    f\"Delete the {str(directory / 'sort.py')!r} file\", functions=[delete_file.openai_schema]\n",
    ")\n",
    "print(function_call)\n",
    "delete_file.validate_input(function_call[1])"
   ]
  },
  {
   "cell_type": "code",
   "execution_count": 20,
   "metadata": {},
   "outputs": [
    {
     "name": "stdout",
     "output_type": "stream",
     "text": [
      "\u001b[48;2;15;7;7m[DirectoryTracker]\u001b[0m \u001b[1mChecking for uncommitted changes\u001b[0m\n",
      "\u001b[48;2;15;7;7m[Shell]\u001b[0m \u001b[1m⚙️  || \u001b[38;2;215;234;194mgit status --porcelain\u001b[0m\u001b[1m\u001b[0m\n"
     ]
    },
    {
     "data": {
      "text/plain": [
       "True"
      ]
     },
     "execution_count": 20,
     "metadata": {},
     "output_type": "execute_result"
    }
   ],
   "source": [
    "# The tracker is vigilant! Let's see if it catches our file deletion.\n",
    "tracker.has_changes"
   ]
  },
  {
   "cell_type": "code",
   "execution_count": 21,
   "metadata": {},
   "outputs": [
    {
     "name": "stdout",
     "output_type": "stream",
     "text": [
      "\u001b[48;2;15;7;7m[Shell]\u001b[0m \u001b[1m⚙️  || \u001b[38;2;215;234;194mls\u001b[0m\u001b[1m\u001b[0m\n",
      "None\n"
     ]
    }
   ],
   "source": [
    "# Our directory's current state? Let's take a look!\n",
    "print(tracker.shell.run(\"ls\"))"
   ]
  },
  {
   "cell_type": "code",
   "execution_count": 22,
   "metadata": {},
   "outputs": [
    {
     "name": "stdout",
     "output_type": "stream",
     "text": [
      "\u001b[48;2;15;7;7m[DirectoryTracker]\u001b[0m \u001b[1mRemoving untracked files and directories\u001b[0m\n",
      "\u001b[48;2;15;7;7m[Shell]\u001b[0m \u001b[1m⚙️  || \u001b[38;2;215;234;194mgit clean -fd\u001b[0m\u001b[1m\u001b[0m\n",
      "\u001b[48;2;15;7;7m[DirectoryTracker]\u001b[0m \u001b[1mResetting all tracked files to their last committed state\u001b[0m\n",
      "\u001b[48;2;15;7;7m[Shell]\u001b[0m \u001b[1m⚙️  || \u001b[38;2;215;234;194mgit reset --hard HEAD\u001b[0m\u001b[1m\u001b[0m\n"
     ]
    }
   ],
   "source": [
    "# No problem! We can easily restore our deleted file.\n",
    "tracker.undo()"
   ]
  },
  {
   "cell_type": "code",
   "execution_count": 23,
   "metadata": {},
   "outputs": [
    {
     "name": "stdout",
     "output_type": "stream",
     "text": [
      "\u001b[48;2;15;7;7m[Shell]\u001b[0m \u001b[1m⚙️  || \u001b[38;2;215;234;194mls\u001b[0m\u001b[1m\u001b[0m\n",
      "Directory: C:\\Users\\synac\\AppData\\Local\\Temp\\orchestr8-tracking\n",
      "\n",
      "\n",
      "Mode                 LastWriteTime         Length Name                                                                 \n",
      "----                 -------------         ------ ----                                                                 \n",
      "-a----        05-12-2024     12:25            281 sort.py\n"
     ]
    }
   ],
   "source": [
    "# Confirming our file is back where it belongs!\n",
    "print(tracker.shell.run(\"ls\"))"
   ]
  },
  {
   "cell_type": "code",
   "execution_count": 24,
   "metadata": {},
   "outputs": [
    {
     "name": "stdout",
     "output_type": "stream",
     "text": [
      "\u001b[48;2;15;7;7m[Shell]\u001b[0m \u001b[1m⚙️  || \u001b[38;2;215;234;194mcat sort.py\u001b[0m\u001b[1m\u001b[0m\n",
      "def bubble_sort(arr):\n",
      "    n = len(arr)\n",
      "\n",
      "    for i in range(n):\n",
      "        for j in range(0, n-i-1):\n",
      "            if arr[j] > arr[j+1] : \n",
      "                arr[j], arr[j+1] = arr[j+1], arr[j]\n",
      "\n",
      "arr = [64, 34, 25, 12, 22, 11, 90]\n",
      "bubble_sort(arr)\n",
      "\n",
      "print (\"Sorted array is:\", arr)\n"
     ]
    }
   ],
   "source": [
    "# Let's peek at our restored file one more time.\n",
    "print(tracker.shell.run(\"cat\", \"sort.py\"))"
   ]
  },
  {
   "cell_type": "code",
   "execution_count": 25,
   "metadata": {},
   "outputs": [
    {
     "name": "stdout",
     "output_type": "stream",
     "text": [
      "\u001b[48;2;15;7;7m[DirectoryTracker]\u001b[0m \u001b[1mChecking for uncommitted changes\u001b[0m\n",
      "\u001b[48;2;15;7;7m[Shell]\u001b[0m \u001b[1m⚙️  || \u001b[38;2;215;234;194mgit status --porcelain\u001b[0m\u001b[1m\u001b[0m\n",
      "\u001b[48;2;15;7;7m[DirectoryTracker]\u001b[0m \u001b[1mDeleting .git directory\u001b[0m\n",
      "\u001b[48;2;15;7;7m[Shell]\u001b[0m \u001b[1m⚙️  || \u001b[38;2;215;234;194mRemove-Item -Path .git -Recurse -Force\u001b[0m\u001b[1m\u001b[0m\n"
     ]
    },
    {
     "data": {
      "text/plain": [
       "False"
      ]
     },
     "execution_count": 25,
     "metadata": {},
     "output_type": "execute_result"
    }
   ],
   "source": [
    "# Time to clean up our tracking!\n",
    "tracker.delete()\n",
    "tracker.is_tracking"
   ]
  },
  {
   "cell_type": "code",
   "execution_count": 26,
   "metadata": {},
   "outputs": [
    {
     "name": "stdout",
     "output_type": "stream",
     "text": [
      "\u001b[48;2;15;7;7m[Shell]\u001b[0m \u001b[1m⚙️  || \u001b[38;2;215;234;194mls\u001b[0m\u001b[1m\u001b[0m\n",
      "Directory: C:\\Users\\synac\\AppData\\Local\\Temp\\orchestr8-tracking\n",
      "\n",
      "\n",
      "Mode                 LastWriteTime         Length Name                                                                 \n",
      "----                 -------------         ------ ----                                                                 \n",
      "-a----        05-12-2024     12:25            281 sort.py\n"
     ]
    }
   ],
   "source": [
    "# One final look at our directory.\n",
    "print(tracker.shell.run(\"ls\"))"
   ]
  }
 ],
 "metadata": {
  "kernelspec": {
   "display_name": ".venv",
   "language": "python",
   "name": "python3"
  },
  "language_info": {
   "codemirror_mode": {
    "name": "ipython",
    "version": 3
   },
   "file_extension": ".py",
   "mimetype": "text/x-python",
   "name": "python",
   "nbconvert_exporter": "python",
   "pygments_lexer": "ipython3",
   "version": "3.10.11"
  }
 },
 "nbformat": 4,
 "nbformat_minor": 2
}
